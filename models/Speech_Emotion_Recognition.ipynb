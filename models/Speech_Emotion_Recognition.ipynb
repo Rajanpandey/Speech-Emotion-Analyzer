{
  "nbformat": 4,
  "nbformat_minor": 0,
  "metadata": {
    "colab": {
      "name": "Final SER.ipynb",
      "provenance": []
    },
    "kernelspec": {
      "name": "python3",
      "display_name": "Python 3"
    }
  },
  "cells": [
    {
      "cell_type": "code",
      "metadata": {
        "id": "38ETMBKGXHf8",
        "colab_type": "code",
        "outputId": "14b3c46b-57b5-4a8b-953f-17f955872805",
        "colab": {
          "base_uri": "https://localhost:8080/",
          "height": 34
        }
      },
      "source": [
        "from google.colab import drive\n",
        "drive.mount('/content/drive')"
      ],
      "execution_count": 28,
      "outputs": [
        {
          "output_type": "stream",
          "text": [
            "Drive already mounted at /content/drive; to attempt to forcibly remount, call drive.mount(\"/content/drive\", force_remount=True).\n"
          ],
          "name": "stdout"
        }
      ]
    },
    {
      "cell_type": "code",
      "metadata": {
        "id": "DaZd33usXrN-",
        "colab_type": "code",
        "colab": {}
      },
      "source": [
        "import joblib\n",
        "X = joblib.load('/content/drive/My Drive/joblib/RavdessAndTess/X.joblib')\n",
        "y = joblib.load('/content/drive/My Drive/joblib/RavdessAndTess/y.joblib')"
      ],
      "execution_count": 0,
      "outputs": []
    },
    {
      "cell_type": "code",
      "metadata": {
        "id": "xOFskZvkXy4d",
        "colab_type": "code",
        "colab": {}
      },
      "source": [
        "import numpy as np\n",
        "from sklearn.model_selection import train_test_split\n",
        "\n",
        "X_train, X_test, y_train, y_test = train_test_split(X, y, test_size=0.1, random_state=42)\n",
        "x_traincnn = np.expand_dims(X_train, axis=2)\n",
        "x_testcnn = np.expand_dims(X_test, axis=2)"
      ],
      "execution_count": 0,
      "outputs": []
    },
    {
      "cell_type": "code",
      "metadata": {
        "id": "tSCa_w0lX_Rk",
        "colab_type": "code",
        "outputId": "7e6f3737-eb5a-4a95-e78e-3e8f70519c28",
        "colab": {
          "base_uri": "https://localhost:8080/",
          "height": 357
        }
      },
      "source": [
        "import os\n",
        "import matplotlib.pyplot as plt\n",
        "from keras.layers import Dense\n",
        "from keras.layers import Conv1D\n",
        "from keras.layers import Flatten\n",
        "from keras.layers import Dropout\n",
        "from keras.layers import Activation\n",
        "from keras.models import Sequential\n",
        "\n",
        "model = Sequential()\n",
        "model.add(Conv1D(64, 5, padding='same',\n",
        "                  input_shape=(40, 1)))\n",
        "model.add(Activation('relu'))\n",
        "model.add(Dropout(0.2))\n",
        "model.add(Flatten())\n",
        "model.add(Dense(8))\n",
        "model.add(Activation('softmax'))\n",
        "\n",
        "model.summary()"
      ],
      "execution_count": 31,
      "outputs": [
        {
          "output_type": "stream",
          "text": [
            "Model: \"sequential_2\"\n",
            "_________________________________________________________________\n",
            "Layer (type)                 Output Shape              Param #   \n",
            "=================================================================\n",
            "conv1d_2 (Conv1D)            (None, 40, 64)            384       \n",
            "_________________________________________________________________\n",
            "activation_3 (Activation)    (None, 40, 64)            0         \n",
            "_________________________________________________________________\n",
            "dropout_2 (Dropout)          (None, 40, 64)            0         \n",
            "_________________________________________________________________\n",
            "flatten_2 (Flatten)          (None, 2560)              0         \n",
            "_________________________________________________________________\n",
            "dense_2 (Dense)              (None, 8)                 20488     \n",
            "_________________________________________________________________\n",
            "activation_4 (Activation)    (None, 8)                 0         \n",
            "=================================================================\n",
            "Total params: 20,872\n",
            "Trainable params: 20,872\n",
            "Non-trainable params: 0\n",
            "_________________________________________________________________\n"
          ],
          "name": "stdout"
        }
      ]
    },
    {
      "cell_type": "code",
      "metadata": {
        "id": "sDyccGg6YUsM",
        "colab_type": "code",
        "outputId": "526218c3-8148-4af7-b7c0-60d7b7ebe0d4",
        "colab": {
          "base_uri": "https://localhost:8080/",
          "height": 1000
        }
      },
      "source": [
        "\n",
        "model.compile(loss='sparse_categorical_crossentropy',\n",
        "                      optimizer='rmsprop',\n",
        "                      metrics=['accuracy'])\n",
        "\n",
        "cnn_history = model.fit(x_traincnn, y_train,\n",
        "                        batch_size=32, epochs=50,\n",
        "                        validation_data=(x_testcnn, y_test))\n"
      ],
      "execution_count": 32,
      "outputs": [
        {
          "output_type": "stream",
          "text": [
            "Train on 4726 samples, validate on 526 samples\n",
            "Epoch 1/50\n",
            "4726/4726 [==============================] - 1s 121us/step - loss: 4.6462 - accuracy: 0.4116 - val_loss: 1.1136 - val_accuracy: 0.6331\n",
            "Epoch 2/50\n",
            "4726/4726 [==============================] - 0s 103us/step - loss: 1.9163 - accuracy: 0.5967 - val_loss: 1.1075 - val_accuracy: 0.6540\n",
            "Epoch 3/50\n",
            "4726/4726 [==============================] - 0s 99us/step - loss: 1.1528 - accuracy: 0.6545 - val_loss: 1.0516 - val_accuracy: 0.6844\n",
            "Epoch 4/50\n",
            "4726/4726 [==============================] - 0s 98us/step - loss: 0.8437 - accuracy: 0.7118 - val_loss: 0.7595 - val_accuracy: 0.7300\n",
            "Epoch 5/50\n",
            "4726/4726 [==============================] - 0s 99us/step - loss: 0.7239 - accuracy: 0.7484 - val_loss: 0.6918 - val_accuracy: 0.7471\n",
            "Epoch 6/50\n",
            "4726/4726 [==============================] - 0s 101us/step - loss: 0.6804 - accuracy: 0.7554 - val_loss: 0.7004 - val_accuracy: 0.7529\n",
            "Epoch 7/50\n",
            "4726/4726 [==============================] - 0s 100us/step - loss: 0.6483 - accuracy: 0.7643 - val_loss: 0.6581 - val_accuracy: 0.7776\n",
            "Epoch 8/50\n",
            "4726/4726 [==============================] - 0s 100us/step - loss: 0.6241 - accuracy: 0.7772 - val_loss: 0.6472 - val_accuracy: 0.7681\n",
            "Epoch 9/50\n",
            "4726/4726 [==============================] - 0s 99us/step - loss: 0.6084 - accuracy: 0.7857 - val_loss: 0.7143 - val_accuracy: 0.7681\n",
            "Epoch 10/50\n",
            "4726/4726 [==============================] - 0s 102us/step - loss: 0.5975 - accuracy: 0.7799 - val_loss: 0.6085 - val_accuracy: 0.7700\n",
            "Epoch 11/50\n",
            "4726/4726 [==============================] - 0s 99us/step - loss: 0.5692 - accuracy: 0.7954 - val_loss: 0.5966 - val_accuracy: 0.7947\n",
            "Epoch 12/50\n",
            "4726/4726 [==============================] - 0s 102us/step - loss: 0.5616 - accuracy: 0.7994 - val_loss: 0.5866 - val_accuracy: 0.8042\n",
            "Epoch 13/50\n",
            "4726/4726 [==============================] - 0s 100us/step - loss: 0.5440 - accuracy: 0.8058 - val_loss: 0.6680 - val_accuracy: 0.7605\n",
            "Epoch 14/50\n",
            "4726/4726 [==============================] - 0s 99us/step - loss: 0.5421 - accuracy: 0.8013 - val_loss: 0.5809 - val_accuracy: 0.8004\n",
            "Epoch 15/50\n",
            "4726/4726 [==============================] - 0s 101us/step - loss: 0.5247 - accuracy: 0.8055 - val_loss: 0.6946 - val_accuracy: 0.7757\n",
            "Epoch 16/50\n",
            "4726/4726 [==============================] - 0s 101us/step - loss: 0.5127 - accuracy: 0.8185 - val_loss: 0.5495 - val_accuracy: 0.8061\n",
            "Epoch 17/50\n",
            "4726/4726 [==============================] - 0s 99us/step - loss: 0.5037 - accuracy: 0.8212 - val_loss: 0.5769 - val_accuracy: 0.7985\n",
            "Epoch 18/50\n",
            "4726/4726 [==============================] - 0s 100us/step - loss: 0.5132 - accuracy: 0.8140 - val_loss: 0.6418 - val_accuracy: 0.7985\n",
            "Epoch 19/50\n",
            "4726/4726 [==============================] - 0s 99us/step - loss: 0.4978 - accuracy: 0.8227 - val_loss: 0.6688 - val_accuracy: 0.7814\n",
            "Epoch 20/50\n",
            "4726/4726 [==============================] - 0s 99us/step - loss: 0.4947 - accuracy: 0.8231 - val_loss: 0.6364 - val_accuracy: 0.7909\n",
            "Epoch 21/50\n",
            "4726/4726 [==============================] - 0s 100us/step - loss: 0.4758 - accuracy: 0.8240 - val_loss: 0.6732 - val_accuracy: 0.7928\n",
            "Epoch 22/50\n",
            "4726/4726 [==============================] - 0s 100us/step - loss: 0.4902 - accuracy: 0.8225 - val_loss: 0.6804 - val_accuracy: 0.7757\n",
            "Epoch 23/50\n",
            "4726/4726 [==============================] - 0s 102us/step - loss: 0.4813 - accuracy: 0.8259 - val_loss: 0.5478 - val_accuracy: 0.8270\n",
            "Epoch 24/50\n",
            "4726/4726 [==============================] - 0s 99us/step - loss: 0.4740 - accuracy: 0.8280 - val_loss: 0.6297 - val_accuracy: 0.7947\n",
            "Epoch 25/50\n",
            "4726/4726 [==============================] - 0s 102us/step - loss: 0.4582 - accuracy: 0.8371 - val_loss: 0.6042 - val_accuracy: 0.8061\n",
            "Epoch 26/50\n",
            "4726/4726 [==============================] - 0s 99us/step - loss: 0.4592 - accuracy: 0.8339 - val_loss: 0.5499 - val_accuracy: 0.8270\n",
            "Epoch 27/50\n",
            "4726/4726 [==============================] - 0s 104us/step - loss: 0.4598 - accuracy: 0.8328 - val_loss: 0.5499 - val_accuracy: 0.8232\n",
            "Epoch 28/50\n",
            "4726/4726 [==============================] - 0s 102us/step - loss: 0.4581 - accuracy: 0.8345 - val_loss: 0.5361 - val_accuracy: 0.8099\n",
            "Epoch 29/50\n",
            "4726/4726 [==============================] - 0s 99us/step - loss: 0.4508 - accuracy: 0.8453 - val_loss: 0.5454 - val_accuracy: 0.8213\n",
            "Epoch 30/50\n",
            "4726/4726 [==============================] - 0s 101us/step - loss: 0.4414 - accuracy: 0.8449 - val_loss: 0.5356 - val_accuracy: 0.8175\n",
            "Epoch 31/50\n",
            "4726/4726 [==============================] - 0s 100us/step - loss: 0.4376 - accuracy: 0.8434 - val_loss: 0.5733 - val_accuracy: 0.8156\n",
            "Epoch 32/50\n",
            "4726/4726 [==============================] - 0s 100us/step - loss: 0.4323 - accuracy: 0.8443 - val_loss: 0.6126 - val_accuracy: 0.8004\n",
            "Epoch 33/50\n",
            "4726/4726 [==============================] - 0s 99us/step - loss: 0.4366 - accuracy: 0.8417 - val_loss: 0.5653 - val_accuracy: 0.8061\n",
            "Epoch 34/50\n",
            "4726/4726 [==============================] - 0s 98us/step - loss: 0.4376 - accuracy: 0.8379 - val_loss: 0.6187 - val_accuracy: 0.8080\n",
            "Epoch 35/50\n",
            "4726/4726 [==============================] - 0s 98us/step - loss: 0.4304 - accuracy: 0.8464 - val_loss: 0.5753 - val_accuracy: 0.8023\n",
            "Epoch 36/50\n",
            "4726/4726 [==============================] - 0s 101us/step - loss: 0.4201 - accuracy: 0.8472 - val_loss: 0.5501 - val_accuracy: 0.8289\n",
            "Epoch 37/50\n",
            "4726/4726 [==============================] - 0s 99us/step - loss: 0.4148 - accuracy: 0.8515 - val_loss: 0.5235 - val_accuracy: 0.8194\n",
            "Epoch 38/50\n",
            "4726/4726 [==============================] - 0s 102us/step - loss: 0.4179 - accuracy: 0.8498 - val_loss: 0.5147 - val_accuracy: 0.8194\n",
            "Epoch 39/50\n",
            "4726/4726 [==============================] - 0s 99us/step - loss: 0.4270 - accuracy: 0.8462 - val_loss: 0.5512 - val_accuracy: 0.8251\n",
            "Epoch 40/50\n",
            "4726/4726 [==============================] - 0s 101us/step - loss: 0.4187 - accuracy: 0.8483 - val_loss: 0.6084 - val_accuracy: 0.8004\n",
            "Epoch 41/50\n",
            "4726/4726 [==============================] - 0s 99us/step - loss: 0.4161 - accuracy: 0.8481 - val_loss: 0.5225 - val_accuracy: 0.8270\n",
            "Epoch 42/50\n",
            "4726/4726 [==============================] - 0s 99us/step - loss: 0.4029 - accuracy: 0.8578 - val_loss: 0.5917 - val_accuracy: 0.8004\n",
            "Epoch 43/50\n",
            "4726/4726 [==============================] - 0s 101us/step - loss: 0.4226 - accuracy: 0.8447 - val_loss: 0.5582 - val_accuracy: 0.8118\n",
            "Epoch 44/50\n",
            "4726/4726 [==============================] - 0s 100us/step - loss: 0.3984 - accuracy: 0.8567 - val_loss: 0.5441 - val_accuracy: 0.8289\n",
            "Epoch 45/50\n",
            "4726/4726 [==============================] - 0s 98us/step - loss: 0.4168 - accuracy: 0.8521 - val_loss: 0.5952 - val_accuracy: 0.8213\n",
            "Epoch 46/50\n",
            "4726/4726 [==============================] - 0s 101us/step - loss: 0.3948 - accuracy: 0.8565 - val_loss: 0.5381 - val_accuracy: 0.8422\n",
            "Epoch 47/50\n",
            "4726/4726 [==============================] - 0s 99us/step - loss: 0.4004 - accuracy: 0.8561 - val_loss: 0.5892 - val_accuracy: 0.7947\n",
            "Epoch 48/50\n",
            "4726/4726 [==============================] - 0s 101us/step - loss: 0.3973 - accuracy: 0.8555 - val_loss: 0.5511 - val_accuracy: 0.8270\n",
            "Epoch 49/50\n",
            "4726/4726 [==============================] - 0s 98us/step - loss: 0.4027 - accuracy: 0.8493 - val_loss: 0.5571 - val_accuracy: 0.8023\n",
            "Epoch 50/50\n",
            "4726/4726 [==============================] - 1s 106us/step - loss: 0.3874 - accuracy: 0.8639 - val_loss: 0.5922 - val_accuracy: 0.8270\n"
          ],
          "name": "stdout"
        }
      ]
    },
    {
      "cell_type": "code",
      "metadata": {
        "id": "4DSPxSaLYvyL",
        "colab_type": "code",
        "outputId": "0f018ce0-6392-4ec8-cd4a-b532f7bed154",
        "colab": {
          "base_uri": "https://localhost:8080/",
          "height": 295
        }
      },
      "source": [
        "plt.plot(cnn_history.history['loss'])\n",
        "plt.plot(cnn_history.history['val_loss'])\n",
        "plt.title('model loss')\n",
        "plt.ylabel('loss')\n",
        "plt.xlabel('epoch')\n",
        "plt.legend(['train', 'test'], loc='upper left')\n",
        "plt.show()\n"
      ],
      "execution_count": 33,
      "outputs": [
        {
          "output_type": "display_data",
          "data": {
            "image/png": "[encoded data removed]",
            "text/plain": [
              "<Figure size 432x288 with 1 Axes>"
            ]
          },
          "metadata": {
            "tags": [],
            "needs_background": "light"
          }
        }
      ]
    },
    {
      "cell_type": "code",
      "metadata": {
        "id": "kw3yX79vY6MU",
        "colab_type": "code",
        "outputId": "889db493-bd1a-4949-add8-9ff9060072c5",
        "colab": {
          "base_uri": "https://localhost:8080/",
          "height": 295
        }
      },
      "source": [
        "plt.plot(cnn_history.history['accuracy'])\n",
        "plt.plot(cnn_history.history['val_accuracy'])\n",
        "plt.title('model accuracy')\n",
        "plt.ylabel('acc')\n",
        "plt.xlabel('epoch')\n",
        "plt.legend(['train', 'test'], loc='upper left')\n",
        "plt.show()"
      ],
      "execution_count": 34,
      "outputs": [
        {
          "output_type": "display_data",
          "data": {
            "image/png": "[encoded data removed]",
            "text/plain": [
              "<Figure size 432x288 with 1 Axes>"
            ]
          },
          "metadata": {
            "tags": [],
            "needs_background": "light"
          }
        }
      ]
    },
    {
      "cell_type": "code",
      "metadata": {
        "id": "n4l5wwbZY98k",
        "colab_type": "code",
        "colab": {}
      },
      "source": [
        "predictions = model.predict_classes(x_testcnn)"
      ],
      "execution_count": 0,
      "outputs": []
    },
    {
      "cell_type": "code",
      "metadata": {
        "id": "3-FT6-ibZCf8",
        "colab_type": "code",
        "outputId": "30537dfa-5ec9-47cb-e317-d76115bb41e7",
        "colab": {
          "base_uri": "https://localhost:8080/",
          "height": 425
        }
      },
      "source": [
        "predictions"
      ],
      "execution_count": 36,
      "outputs": [
        {
          "output_type": "execute_result",
          "data": {
            "text/plain": [
              "array([3, 3, 3, 4, 0, 1, 7, 3, 1, 0, 2, 4, 2, 3, 7, 2, 6, 3, 4, 2, 6, 5,\n",
              "       1, 0, 2, 6, 7, 6, 6, 4, 1, 0, 3, 2, 3, 7, 2, 3, 2, 0, 0, 5, 5, 3,\n",
              "       4, 5, 3, 1, 4, 7, 4, 6, 2, 5, 3, 7, 7, 6, 1, 5, 5, 4, 2, 5, 7, 2,\n",
              "       5, 4, 0, 3, 0, 4, 0, 4, 1, 2, 5, 7, 3, 3, 4, 5, 3, 4, 5, 5, 2, 7,\n",
              "       2, 6, 7, 0, 6, 5, 2, 4, 2, 4, 6, 3, 5, 0, 5, 2, 1, 2, 6, 7, 5, 4,\n",
              "       0, 4, 0, 1, 6, 7, 6, 7, 4, 2, 6, 5, 3, 1, 7, 0, 7, 0, 7, 7, 0, 6,\n",
              "       4, 6, 7, 0, 2, 7, 3, 3, 0, 4, 5, 4, 7, 4, 5, 1, 2, 2, 6, 7, 2, 2,\n",
              "       2, 7, 1, 6, 6, 7, 3, 1, 7, 0, 5, 4, 5, 5, 2, 4, 3, 6, 6, 4, 0, 3,\n",
              "       6, 4, 6, 2, 7, 4, 5, 3, 1, 4, 4, 5, 5, 5, 1, 5, 3, 4, 3, 0, 4, 5,\n",
              "       4, 6, 2, 7, 3, 0, 2, 3, 4, 6, 0, 2, 2, 7, 2, 5, 4, 2, 5, 5, 4, 1,\n",
              "       6, 0, 7, 2, 5, 7, 1, 3, 0, 1, 2, 3, 4, 5, 4, 4, 5, 7, 3, 6, 6, 5,\n",
              "       6, 0, 5, 2, 6, 2, 3, 6, 5, 7, 7, 3, 7, 1, 6, 6, 7, 6, 1, 2, 6, 5,\n",
              "       1, 2, 5, 3, 2, 4, 6, 3, 1, 5, 4, 2, 5, 5, 4, 4, 6, 0, 3, 6, 1, 4,\n",
              "       4, 0, 5, 0, 2, 2, 5, 2, 6, 0, 3, 5, 7, 4, 1, 4, 5, 7, 4, 0, 3, 2,\n",
              "       6, 7, 3, 3, 1, 2, 0, 1, 4, 7, 4, 6, 6, 3, 1, 7, 3, 6, 3, 5, 3, 4,\n",
              "       7, 4, 4, 7, 5, 3, 0, 4, 5, 6, 4, 6, 3, 6, 6, 7, 2, 6, 6, 7, 5, 2,\n",
              "       7, 2, 3, 5, 2, 2, 6, 0, 2, 5, 1, 3, 0, 6, 0, 0, 6, 7, 7, 1, 6, 2,\n",
              "       1, 3, 7, 3, 4, 5, 0, 6, 0, 4, 7, 2, 5, 2, 7, 2, 4, 5, 0, 2, 7, 7,\n",
              "       4, 7, 4, 3, 6, 6, 0, 3, 4, 1, 7, 7, 5, 4, 6, 7, 5, 2, 2, 4, 4, 6,\n",
              "       5, 4, 6, 4, 2, 7, 6, 2, 0, 1, 5, 7, 1, 6, 1, 4, 5, 2, 3, 0, 2, 6,\n",
              "       1, 2, 4, 3, 5, 7, 2, 5, 2, 4, 6, 1, 1, 5, 2, 0, 7, 5, 7, 4, 6, 4,\n",
              "       5, 6, 4, 5, 4, 3, 2, 4, 2, 0, 5, 0, 0, 2, 2, 1, 7, 2, 7, 5, 6, 4,\n",
              "       4, 4, 6, 0, 4, 5, 5, 5, 2, 5, 5, 2, 7, 6, 7, 5, 6, 3, 6, 5, 3, 5,\n",
              "       1, 6, 1, 6, 4, 6, 4, 7, 5, 0, 1, 3, 1, 0, 2, 5, 7, 6, 6, 7])"
            ]
          },
          "metadata": {
            "tags": []
          },
          "execution_count": 36
        }
      ]
    },
    {
      "cell_type": "code",
      "metadata": {
        "id": "zdvkeGFcZDp0",
        "colab_type": "code",
        "colab": {}
      },
      "source": [
        "new_y_test = y_test.astype(int)"
      ],
      "execution_count": 0,
      "outputs": []
    },
    {
      "cell_type": "code",
      "metadata": {
        "id": "FKirOspHZG7c",
        "colab_type": "code",
        "outputId": "04b3a610-e3e8-4547-93b5-e09357585f96",
        "colab": {
          "base_uri": "https://localhost:8080/",
          "height": 425
        }
      },
      "source": [
        "new_y_test"
      ],
      "execution_count": 38,
      "outputs": [
        {
          "output_type": "execute_result",
          "data": {
            "text/plain": [
              "array([3, 3, 3, 4, 0, 1, 7, 3, 1, 0, 2, 4, 2, 3, 2, 2, 6, 3, 4, 2, 4, 5,\n",
              "       1, 0, 2, 3, 7, 3, 6, 3, 1, 1, 3, 2, 3, 7, 2, 3, 2, 0, 0, 5, 5, 3,\n",
              "       4, 0, 3, 0, 4, 7, 4, 6, 1, 5, 5, 7, 6, 6, 4, 5, 5, 4, 2, 5, 3, 7,\n",
              "       3, 4, 0, 3, 0, 4, 0, 4, 1, 2, 5, 7, 3, 3, 4, 5, 3, 4, 5, 4, 2, 7,\n",
              "       2, 6, 7, 0, 4, 5, 2, 4, 2, 4, 6, 3, 5, 0, 5, 2, 1, 2, 6, 7, 5, 4,\n",
              "       0, 4, 0, 1, 4, 7, 6, 7, 4, 2, 4, 3, 3, 1, 3, 0, 0, 0, 7, 0, 0, 6,\n",
              "       4, 6, 4, 0, 2, 7, 3, 3, 0, 5, 3, 4, 7, 4, 5, 1, 1, 2, 6, 7, 3, 3,\n",
              "       2, 7, 1, 6, 6, 0, 3, 1, 7, 0, 5, 4, 5, 5, 2, 4, 5, 6, 6, 4, 0, 3,\n",
              "       1, 4, 1, 2, 7, 4, 5, 3, 1, 4, 4, 0, 5, 5, 3, 5, 3, 4, 3, 0, 4, 5,\n",
              "       4, 6, 2, 6, 3, 3, 1, 3, 4, 6, 0, 2, 3, 7, 2, 5, 4, 2, 5, 5, 4, 1,\n",
              "       6, 0, 7, 2, 5, 7, 1, 3, 0, 1, 2, 3, 4, 5, 4, 4, 5, 7, 3, 0, 6, 5,\n",
              "       6, 0, 3, 2, 6, 2, 3, 6, 5, 7, 7, 1, 7, 1, 6, 6, 0, 6, 1, 3, 6, 5,\n",
              "       3, 2, 5, 3, 2, 6, 6, 5, 1, 5, 4, 2, 5, 5, 4, 4, 6, 0, 3, 1, 1, 4,\n",
              "       4, 4, 5, 0, 2, 5, 5, 2, 6, 0, 3, 5, 7, 4, 1, 4, 5, 7, 4, 0, 3, 1,\n",
              "       6, 7, 3, 5, 0, 2, 0, 0, 4, 6, 4, 1, 6, 3, 6, 7, 3, 6, 3, 5, 3, 4,\n",
              "       7, 4, 6, 7, 6, 3, 0, 4, 5, 2, 5, 6, 3, 6, 6, 2, 2, 6, 6, 7, 5, 2,\n",
              "       4, 2, 3, 5, 2, 2, 4, 0, 2, 5, 3, 3, 0, 6, 0, 0, 5, 7, 7, 1, 6, 5,\n",
              "       1, 3, 7, 3, 4, 3, 0, 7, 0, 4, 7, 2, 5, 2, 7, 1, 4, 5, 0, 2, 4, 7,\n",
              "       4, 7, 4, 3, 6, 6, 0, 3, 4, 1, 2, 7, 5, 4, 0, 7, 5, 2, 2, 4, 4, 1,\n",
              "       5, 3, 6, 4, 2, 7, 6, 2, 0, 1, 5, 7, 1, 6, 3, 4, 5, 2, 5, 0, 2, 7,\n",
              "       1, 2, 4, 3, 5, 7, 2, 4, 3, 4, 6, 1, 1, 5, 2, 0, 7, 5, 7, 4, 2, 4,\n",
              "       5, 6, 4, 5, 4, 3, 2, 4, 2, 0, 5, 0, 0, 2, 2, 1, 3, 2, 7, 5, 6, 4,\n",
              "       4, 4, 3, 0, 4, 5, 3, 5, 2, 5, 5, 2, 7, 6, 7, 5, 6, 3, 6, 5, 3, 5,\n",
              "       1, 6, 0, 6, 2, 6, 4, 7, 5, 0, 1, 3, 3, 0, 4, 5, 6, 6, 3, 2])"
            ]
          },
          "metadata": {
            "tags": []
          },
          "execution_count": 38
        }
      ]
    },
    {
      "cell_type": "code",
      "metadata": {
        "id": "3w8vW2l-ZKlT",
        "colab_type": "code",
        "outputId": "79dab3e9-eedf-4718-d505-953ee76e3179",
        "colab": {
          "base_uri": "https://localhost:8080/",
          "height": 272
        }
      },
      "source": [
        "from sklearn.metrics import classification_report\n",
        "report = classification_report(new_y_test, predictions)\n",
        "print(report)"
      ],
      "execution_count": 39,
      "outputs": [
        {
          "output_type": "stream",
          "text": [
            "              precision    recall  f1-score   support\n",
            "\n",
            "           0       0.94      0.80      0.86        59\n",
            "           1       0.74      0.72      0.73        43\n",
            "           2       0.81      0.90      0.85        68\n",
            "           3       0.90      0.67      0.76        78\n",
            "           4       0.91      0.85      0.88        85\n",
            "           5       0.86      0.87      0.87        78\n",
            "           6       0.72      0.87      0.79        62\n",
            "           7       0.74      0.94      0.83        53\n",
            "\n",
            "    accuracy                           0.83       526\n",
            "   macro avg       0.83      0.83      0.82       526\n",
            "weighted avg       0.84      0.83      0.83       526\n",
            "\n"
          ],
          "name": "stdout"
        }
      ]
    },
    {
      "cell_type": "code",
      "metadata": {
        "id": "kAWJ0DnIZPWM",
        "colab_type": "code",
        "outputId": "4e334e0b-9e95-44e0-b9c7-a96f02905808",
        "colab": {
          "base_uri": "https://localhost:8080/",
          "height": 282
        }
      },
      "source": [
        "from sklearn.metrics import confusion_matrix\n",
        "import seaborn as sns\n",
        "\n",
        "matrix = confusion_matrix(new_y_test, predictions)\n",
        "sns.heatmap(matrix, annot=True, cmap='Blues')\n",
        "\n",
        "# 0 = neutral, 1 = calm, 2 = happy, 3 = sad, 4 = angry, 5 = fearful, 6 = disgust, 7 = surprised"
      ],
      "execution_count": 40,
      "outputs": [
        {
          "output_type": "execute_result",
          "data": {
            "text/plain": [
              "<matplotlib.axes._subplots.AxesSubplot at 0x7f4e617a36d8>"
            ]
          },
          "metadata": {
            "tags": []
          },
          "execution_count": 40
        },
        {
          "output_type": "display_data",
          "data": {
            "image/png": "[encoded data removed]",
            "text/plain": [
              "<Figure size 432x288 with 2 Axes>"
            ]
          },
          "metadata": {
            "tags": [],
            "needs_background": "light"
          }
        }
      ]
    },
    {
      "cell_type": "code",
      "metadata": {
        "id": "Y8g-WI3fZT7a",
        "colab_type": "code",
        "colab": {
          "base_uri": "https://localhost:8080/",
          "height": 34
        },
        "outputId": "ed13fcaa-9730-4d50-cdfa-c74bcac91b52"
      },
      "source": [
        "model_name = 'Ravdess_And_Tess_SER_Model.h5'\n",
        "save_dir = '/content/drive/My Drive/Final SER'\n",
        "if not os.path.isdir(save_dir):\n",
        "    os.makedirs(save_dir)\n",
        "model_path = os.path.join(save_dir, model_name)\n",
        "model.save(model_path)\n",
        "print('Saved trained model at %s ' % model_path)"
      ],
      "execution_count": 41,
      "outputs": [
        {
          "output_type": "stream",
          "text": [
            "Saved trained model at /content/drive/My Drive/Final SER/Ravdess_And_Tess_SER_Model.h5 \n"
          ],
          "name": "stdout"
        }
      ]
    },
    {
      "cell_type": "code",
      "metadata": {
        "id": "-VbFB-Fz9oJy",
        "colab_type": "code",
        "colab": {
          "base_uri": "https://localhost:8080/",
          "height": 357
        },
        "outputId": "fdb1a4b1-3c9c-43a4-b165-d84ff96b9b3e"
      },
      "source": [
        "import keras\n",
        "loaded_model = keras.models.load_model('/content/drive/My Drive/Final SER/Ravdess_And_Tess_SER_Model.h5')\n",
        "loaded_model.summary()"
      ],
      "execution_count": 42,
      "outputs": [
        {
          "output_type": "stream",
          "text": [
            "Model: \"sequential_2\"\n",
            "_________________________________________________________________\n",
            "Layer (type)                 Output Shape              Param #   \n",
            "=================================================================\n",
            "conv1d_2 (Conv1D)            (None, 40, 64)            384       \n",
            "_________________________________________________________________\n",
            "activation_3 (Activation)    (None, 40, 64)            0         \n",
            "_________________________________________________________________\n",
            "dropout_2 (Dropout)          (None, 40, 64)            0         \n",
            "_________________________________________________________________\n",
            "flatten_2 (Flatten)          (None, 2560)              0         \n",
            "_________________________________________________________________\n",
            "dense_2 (Dense)              (None, 8)                 20488     \n",
            "_________________________________________________________________\n",
            "activation_4 (Activation)    (None, 8)                 0         \n",
            "=================================================================\n",
            "Total params: 20,872\n",
            "Trainable params: 20,872\n",
            "Non-trainable params: 0\n",
            "_________________________________________________________________\n"
          ],
          "name": "stdout"
        }
      ]
    },
    {
      "cell_type": "code",
      "metadata": {
        "id": "-Q_-XwNH_xyl",
        "colab_type": "code",
        "colab": {
          "base_uri": "https://localhost:8080/",
          "height": 51
        },
        "outputId": "397c3c73-5b77-4b69-b3e4-ffb493505040"
      },
      "source": [
        "loss, acc = loaded_model.evaluate(x_testcnn, y_test)\n",
        "print(\"Restored model, accuracy: {:5.2f}%\".format(100*acc))"
      ],
      "execution_count": 43,
      "outputs": [
        {
          "output_type": "stream",
          "text": [
            "526/526 [==============================] - 0s 74us/step\n",
            "Restored model, accuracy: 82.70%\n"
          ],
          "name": "stdout"
        }
      ]
    },
    {
      "cell_type": "code",
      "metadata": {
        "id": "zsCTz2VrAIHK",
        "colab_type": "code",
        "colab": {}
      },
      "source": [
        ""
      ],
      "execution_count": 0,
      "outputs": []
    }
  ]
}